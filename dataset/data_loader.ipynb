{
 "cells": [
  {
   "cell_type": "code",
   "execution_count": 2,
   "metadata": {},
   "outputs": [
    {
     "name": "stdout",
     "output_type": "stream",
     "text": [
      "Data saved to AAPL_30min_data.csv\n"
     ]
    }
   ],
   "source": [
    "import yfinance as yf\n",
    "import pandas as pd"
   ]
  },
  {
   "cell_type": "code",
   "execution_count": null,
   "metadata": {},
   "outputs": [],
   "source": [
    "# Define the stock ticker (AAPL - Apple)\n",
    "ticker = \"AAPL\"\n",
    "\n",
    "# Fetch 30-minute historical data for the last 5 days\n",
    "stock = yf.Ticker(ticker)\n",
    "df = stock.history(period=\"5d\", interval=\"30m\")\n",
    "\n",
    "# Save to CSV\n",
    "filename = f\"{ticker}_30min_data.csv\"\n",
    "df.to_csv(filename)\n",
    "\n",
    "print(f\"Data saved to {filename}\")"
   ]
  }
 ],
 "metadata": {
  "kernelspec": {
   "display_name": "Python 3",
   "language": "python",
   "name": "python3"
  },
  "language_info": {
   "codemirror_mode": {
    "name": "ipython",
    "version": 3
   },
   "file_extension": ".py",
   "mimetype": "text/x-python",
   "name": "python",
   "nbconvert_exporter": "python",
   "pygments_lexer": "ipython3",
   "version": "3.10.12"
  }
 },
 "nbformat": 4,
 "nbformat_minor": 2
}
