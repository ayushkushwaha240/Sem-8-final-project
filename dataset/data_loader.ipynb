{
 "cells": [
  {
   "cell_type": "code",
   "execution_count": 3,
   "metadata": {},
   "outputs": [],
   "source": [
    "import requests\n",
    "\n",
    "# Replace with your actual API credentials\n",
    "API_KEY = \"your_api_key\"\n",
    "ACCESS_TOKEN = \"your_access_token\"  # Obtain this via OAuth flow\n",
    "\n",
    "# API Endpoint for historical data\n",
    "BASE_URL = \"https://api.upstox.com/v2\"\n",
    "HISTORICAL_DATA_ENDPOINT = f\"{BASE_URL}/market/ohlc\""
   ]
  },
  {
   "cell_type": "code",
   "execution_count": 4,
   "metadata": {},
   "outputs": [],
   "source": [
    "# Function to fetch historical data\n",
    "def get_historical_data(symbol, exchange=\"NSE_EQ\", interval=\"day\", from_date=\"2024-01-01\", to_date=\"2024-03-01\"):\n",
    "    headers = {\n",
    "        \"Content-Type\": \"application/json\",\n",
    "        \"x-api-key\": API_KEY,\n",
    "        \"Authorization\": f\"Bearer {ACCESS_TOKEN}\",\n",
    "    }\n",
    "\n",
    "    params = {\n",
    "        \"symbol\": symbol,\n",
    "        \"exchange\": exchange,\n",
    "        \"interval\": interval,  # Options: \"1minute\", \"5minute\", \"day\", etc.\n",
    "        \"from_date\": from_date,\n",
    "        \"to_date\": to_date,\n",
    "    }\n",
    "\n",
    "    response = requests.get(HISTORICAL_DATA_ENDPOINT, headers=headers, params=params)\n",
    "\n",
    "    if response.status_code == 200:\n",
    "        return response.json()\n",
    "    else:\n",
    "        print(f\"Error {response.status_code}: {response.text}\")\n",
    "        return None"
   ]
  },
  {
   "cell_type": "code",
   "execution_count": 5,
   "metadata": {},
   "outputs": [
    {
     "name": "stdout",
     "output_type": "stream",
     "text": [
      "Error 404: {\"status\":\"error\",\"errors\":[{\"errorCode\":\"UDAPI100060\",\"message\":\"Resource not Found.\",\"propertyPath\":null,\"invalidValue\":null,\"error_code\":\"UDAPI100060\",\"property_path\":null,\"invalid_value\":null}]}\n"
     ]
    }
   ],
   "source": [
    "# Example usage\n",
    "symbol = \"RELIANCE\"\n",
    "historical_data = get_historical_data(symbol)\n",
    "\n",
    "if historical_data:\n",
    "    print(historical_data)"
   ]
  },
  {
   "cell_type": "code",
   "execution_count": null,
   "metadata": {},
   "outputs": [],
   "source": []
  }
 ],
 "metadata": {
  "kernelspec": {
   "display_name": "Python 3",
   "language": "python",
   "name": "python3"
  },
  "language_info": {
   "codemirror_mode": {
    "name": "ipython",
    "version": 3
   },
   "file_extension": ".py",
   "mimetype": "text/x-python",
   "name": "python",
   "nbconvert_exporter": "python",
   "pygments_lexer": "ipython3",
   "version": "3.10.12"
  }
 },
 "nbformat": 4,
 "nbformat_minor": 2
}
